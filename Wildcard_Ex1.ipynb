{
 "cells": [
  {
   "cell_type": "code",
   "execution_count": 42,
   "metadata": {},
   "outputs": [],
   "source": [
    "def isMatch( s, p):\n",
    "    letter_string=0\n",
    "    letter_pattern=0\n",
    "    first_star_pos=0\n",
    "    end_star_pos=-1\n",
    "    len_pattern = len(p)\n",
    "    while letter_string < len(s):\n",
    "        if letter_pattern < len_pattern and p[letter_pattern] in (s[letter_string], '?'):\n",
    "            letter_string = letter_string + 1\n",
    "            letter_pattern =letter_pattern + 1\n",
    "\n",
    "        elif letter_pattern < len_pattern and p[letter_pattern] == '*':\n",
    "            first_star_pos = letter_string\n",
    "            end_star_pos = letter_pattern\n",
    "            letter_pattern =letter_pattern+ 1\n",
    "\n",
    "        elif end_star_pos > -1:\n",
    "            letter_string = first_star_pos + 1\n",
    "            first_star_pos = first_star_pos + 1\n",
    "            letter_pattern = end_star_pos + 1\n",
    "            \n",
    "        else:\n",
    "            return False\n",
    "    while letter_pattern < len_pattern and p[letter_pattern] == '*':\n",
    "        letter_pattern =letter_pattern+ 1\n",
    "    match=(letter_pattern == len_pattern)\n",
    "    return match"
   ]
  },
  {
   "cell_type": "code",
   "execution_count": 45,
   "metadata": {},
   "outputs": [
    {
     "data": {
      "text/plain": [
       "True"
      ]
     },
     "execution_count": 45,
     "metadata": {},
     "output_type": "execute_result"
    }
   ],
   "source": [
    "ret= isMatch('aa','*')\n",
    "ret"
   ]
  }
 ],
 "metadata": {
  "kernelspec": {
   "display_name": "Python 3",
   "language": "python",
   "name": "python3"
  },
  "language_info": {
   "codemirror_mode": {
    "name": "ipython",
    "version": 3
   },
   "file_extension": ".py",
   "mimetype": "text/x-python",
   "name": "python",
   "nbconvert_exporter": "python",
   "pygments_lexer": "ipython3",
   "version": "3.6.4"
  }
 },
 "nbformat": 4,
 "nbformat_minor": 2
}
