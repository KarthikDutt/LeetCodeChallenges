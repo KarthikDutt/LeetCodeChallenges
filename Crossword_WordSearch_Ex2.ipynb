{
 "cells": [
  {
   "cell_type": "code",
   "execution_count": 4,
   "metadata": {},
   "outputs": [],
   "source": [
    "class Solution:\n",
    "    def check_match(self,cells_to_check,board,next_letter,cells_used,row_found,col_found):\n",
    "        partial_match=0\n",
    "        for cell in cells_to_check: # Loop through all cells that are elegible\n",
    "            #print(cell)\n",
    "            if (board[cell[0]][cell[1]]==next_letter):\n",
    "                print ('found ',cell)\n",
    "                partial_match=1\n",
    "                row_found=cell[0] #If letter is found then update the row_found and col_found values\n",
    "                col_found=cell[1]\n",
    "                cells_used.append((row_found,col_found))\n",
    "                break # If found, then we need not loop further\n",
    "            else:\n",
    "                #print('not found')\n",
    "                partial_match=0\n",
    "                #break\n",
    "        return cells_used,partial_match,row_found,col_found\n",
    "    def create_cells_to_check(self,i,word,total_rows,total_cols,row_found,col_found,cells_used):\n",
    "        no_of_letters=len(word)\n",
    "     # loop over rest of the letters in the word and search them\n",
    "        #print(word[i+1])\n",
    "        #print(row_found)\n",
    "        #print(col_found)\n",
    "        cells_to_check=[] # List that holds the cells where we expect the next letter to be present\n",
    "        if total_rows==1:\n",
    "            rows_to_search=[row_found]\n",
    "        elif row_found ==0: # If first letter is found in first row, then we must search only in 2nd row as -1 doesnt make sense\n",
    "            rows_to_search=[row_found+1]\n",
    "        elif row_found==total_rows-1:# If first letter is found in last row, then we must search for next in last-1 row only\n",
    "            rows_to_search=[row_found-1]\n",
    "        else:\n",
    "            rows_to_search=[row_found-1,row_found+1]\n",
    "        if total_cols==1:\n",
    "            cols_to_search=[col_found]\n",
    "        elif col_found ==0: #\n",
    "            cols_to_search=[col_found+1]\n",
    "        elif col_found==total_cols-1:\n",
    "            cols_to_search=[col_found-1]\n",
    "        else:\n",
    "            cols_to_search=[col_found-1,col_found+1]\n",
    "        for row_1 in rows_to_search:# Create a list of cells where we must now search the next letter\n",
    "            cells_to_check.append((row_1,col_found))\n",
    "            #print(cells_to_check)\n",
    "        for col_1 in cols_to_search:\n",
    "            cells_to_check.append((row_found,col_1))\n",
    "            #print(cells_to_check)\n",
    "        next_letter = word[i+1]\n",
    "        if (total_rows ==1 and total_cols==1):\n",
    "            cells_to_check=[(0,0)]\n",
    "        #print('cells to check in sub ',cells_to_check)\n",
    "            #print ('found in ',(row_found, col_found))\n",
    "        #print('cells used ', cells_used)\n",
    "        cells_to_check=[i for i in cells_to_check if i not in cells_used]\n",
    "        return next_letter,cells_to_check\n",
    "    \n",
    "\n",
    "    def findWords(self, board, words):\n",
    "        print (board)\n",
    "        partial_match=0\n",
    "        not_available=[] # List to hold all unavailable words\n",
    "        available_words=[] #List to hold all available words\n",
    "        total_rows=len(board) #Number of rows in the matrix\n",
    "        total_cols=len(board[0]) # Number of cols in the matrix\n",
    "        for word in words: #Loop over each word to be searched\n",
    "            first_letter=word[0]# First letter of the word we are searching for\n",
    "            #print('first letter ',first_letter)\n",
    "            no_of_letters= len(word)\n",
    "            #Indeces of the matrix where we find the first letter of the word\n",
    "            occurances= self.find_occurances(board,first_letter)\n",
    "            #print('occurances ',occurances)\n",
    "            if not occurances:# If first letter itself is not there, we can declare the word is unavailable\n",
    "                not_available.append(word)\n",
    "            else:\n",
    "                for occurance in occurances: # If first word is avilable in multiple places, loop over each\n",
    "                    #print ('Occurance ',occurance)\n",
    "                    row_found=occurance[0]\n",
    "                    col_found=occurance[1]\n",
    "                    cells_used=[]\n",
    "                    cells_used.append((row_found,col_found))\n",
    "                    if no_of_letters==1:\n",
    "                        available_words.append(word)\n",
    "                    for i in range (no_of_letters-1):\n",
    "                        #print('i',i)\n",
    "                        next_letter,cells_to_check=self.create_cells_to_check(i,word,total_rows,total_cols,row_found,col_found,cells_used)\n",
    "                        #print('letter ',next_letter)\n",
    "                        #print('cells to check again',cells_to_check)\n",
    "                        if not cells_to_check:\n",
    "                            partial_match=0\n",
    "                        cells_used,partial_match,row_found,col_found=self.check_match(cells_to_check,board,next_letter,cells_used,row_found,col_found)\n",
    "                        #print('partial match ', partial_match)\n",
    "                        if (partial_match==0):\n",
    "                            break\n",
    "                    if (partial_match==1):\n",
    "                        available_words.append(word)\n",
    "                        break\n",
    "                if (partial_match==0):\n",
    "                    not_available.append(word)\n",
    "                elif (partial_match==1):\n",
    "                    available_words.append(word) \n",
    "        available_words=list(set(available_words))\n",
    "        return available_words\n",
    "    \n",
    "    def find_occurances(self,board,element):\n",
    "        list_loc=[]\n",
    "        for i,c in enumerate(board):\n",
    "            if element in c:\n",
    "                for j,d in enumerate (c):\n",
    "                    if d==element:\n",
    "                        loc=(i,j)\n",
    "                        list_loc.append(loc)\n",
    "        return list_loc"
   ]
  },
  {
   "cell_type": "code",
   "execution_count": 5,
   "metadata": {},
   "outputs": [],
   "source": [
    "obj=Solution()"
   ]
  },
  {
   "cell_type": "code",
   "execution_count": 8,
   "metadata": {},
   "outputs": [],
   "source": [
    "words = [\"oath\",\"pea\",\"eat\",\"rain\"]  \n",
    "board =[\n",
    "  ['o','a','a','n'],\n",
    "  ['e','t','a','e'],\n",
    "  ['i','h','k','r'],\n",
    "  ['i','f','l','v']\n",
    "]"
   ]
  },
  {
   "cell_type": "code",
   "execution_count": 10,
   "metadata": {},
   "outputs": [
    {
     "name": "stdout",
     "output_type": "stream",
     "text": [
      "[['o', 'a', 'a', 'n'], ['e', 't', 'a', 'e'], ['i', 'h', 'k', 'r'], ['i', 'f', 'l', 'v']]\n",
      "found  (0, 1)\n",
      "found  (1, 1)\n",
      "found  (2, 1)\n",
      "found  (1, 2)\n",
      "found  (1, 1)\n"
     ]
    }
   ],
   "source": [
    "result=obj.findWords(board,words)"
   ]
  },
  {
   "cell_type": "code",
   "execution_count": 11,
   "metadata": {},
   "outputs": [
    {
     "data": {
      "text/plain": [
       "['oath', 'eat']"
      ]
     },
     "execution_count": 11,
     "metadata": {},
     "output_type": "execute_result"
    }
   ],
   "source": [
    "result"
   ]
  }
 ],
 "metadata": {
  "kernelspec": {
   "display_name": "Python 3",
   "language": "python",
   "name": "python3"
  },
  "language_info": {
   "codemirror_mode": {
    "name": "ipython",
    "version": 3
   },
   "file_extension": ".py",
   "mimetype": "text/x-python",
   "name": "python",
   "nbconvert_exporter": "python",
   "pygments_lexer": "ipython3",
   "version": "3.6.4"
  }
 },
 "nbformat": 4,
 "nbformat_minor": 2
}
