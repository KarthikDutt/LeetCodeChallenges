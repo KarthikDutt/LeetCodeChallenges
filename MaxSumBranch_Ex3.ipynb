{
 "cells": [
  {
   "cell_type": "code",
   "execution_count": 1,
   "metadata": {},
   "outputs": [],
   "source": [
    "class Solution:\n",
    "    def nodesum(self, root):\n",
    "        if root == None: \n",
    "            return 0\n",
    "        sum = root.val\n",
    "        left_sum = self.nodesum(root.left)\n",
    "        right_sum = self.nodesum(root.right)\n",
    "        if left_sum > 0: \n",
    "            sum = sum+left_sum;\n",
    "        if right_sum > 0: \n",
    "            sum = sum+right_sum;\n",
    "        Solution.max = max(Solution.max, sum)\n",
    "        return max(root.val, max(root.val + left_sum, root.val + right_sum))\n",
    "    def maxPathSum(self, root):\n",
    "        Solution.max = -10000000\n",
    "        if root == None: \n",
    "            return 0\n",
    "        self.nodesum(root)\n",
    "        return Solution.max"
   ]
  },
  {
   "cell_type": "code",
   "execution_count": 1,
   "metadata": {},
   "outputs": [],
   "source": [
    "x=[1,2,3]\n",
    "class TreeNode:\n",
    "    def __init__(self, x):\n",
    "        self.val = x\n",
    "        self.left = None\n",
    "        self.right = None"
   ]
  }
 ],
 "metadata": {
  "kernelspec": {
   "display_name": "Python 3",
   "language": "python",
   "name": "python3"
  },
  "language_info": {
   "codemirror_mode": {
    "name": "ipython",
    "version": 3
   },
   "file_extension": ".py",
   "mimetype": "text/x-python",
   "name": "python",
   "nbconvert_exporter": "python",
   "pygments_lexer": "ipython3",
   "version": "3.6.4"
  }
 },
 "nbformat": 4,
 "nbformat_minor": 2
}
